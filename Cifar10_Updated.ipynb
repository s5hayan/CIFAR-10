{
  "nbformat": 4,
  "nbformat_minor": 0,
  "metadata": {
    "colab": {
      "name": "Cifar10 Updated",
      "version": "0.3.2",
      "provenance": [],
      "collapsed_sections": []
    },
    "kernelspec": {
      "name": "python3",
      "display_name": "Python 3"
    },
    "accelerator": "GPU"
  },
  "cells": [
    {
      "cell_type": "code",
      "metadata": {
        "id": "02Dm-eifOZ1T",
        "colab_type": "code",
        "colab": {}
      },
      "source": [
        "import tensorflow as tf\n",
        "import keras\n",
        "from keras.datasets import cifar10                                                       #The Dataset is directly imported \n",
        "from keras.models import Sequential\n",
        "from keras.layers import Dense, Dropout, Activation, Flatten, BatchNormalization\n",
        "from keras.layers import MaxPooling2D,Convolution2D\n",
        "from keras.optimizers import Adam\n",
        "import numpy as np\n",
        "from keras.utils import np_utils"
      ],
      "execution_count": 0,
      "outputs": []
    },
    {
      "cell_type": "code",
      "metadata": {
        "id": "SLbzGEsuOnC7",
        "colab_type": "code",
        "colab": {}
      },
      "source": [
        "(x_train,y_train),(x_test,y_test)=cifar10.load_data()      #The Dataset is directly loaded"
      ],
      "execution_count": 0,
      "outputs": []
    },
    {
      "cell_type": "code",
      "metadata": {
        "id": "sBOpK5ONOvrG",
        "colab_type": "code",
        "outputId": "7c33048a-8bf1-4a38-8ced-7eb4ab868f26",
        "colab": {
          "base_uri": "https://localhost:8080/",
          "height": 68
        }
      },
      "source": [
        "print('x_train shape:', x_train.shape)\n",
        "print(x_train.shape[0], 'train samples') #No. of Trained samples\n",
        "print(x_test.shape[0], 'test samples')   #No. of Test samples"
      ],
      "execution_count": 35,
      "outputs": [
        {
          "output_type": "stream",
          "text": [
            "x_train shape: (50000, 32, 32, 3)\n",
            "50000 train samples\n",
            "10000 test samples\n"
          ],
          "name": "stdout"
        }
      ]
    },
    {
      "cell_type": "code",
      "metadata": {
        "id": "h30FervRloif",
        "colab_type": "code",
        "colab": {}
      },
      "source": [
        "x_train=x_train.astype('float32')\n",
        "x_test=x_test.astype('float32')\n",
        "x_train/=255                            #Input features are scaled between 0 and 1\n",
        "x_test/=255"
      ],
      "execution_count": 0,
      "outputs": []
    },
    {
      "cell_type": "code",
      "metadata": {
        "id": "vCI3CrdqdFaB",
        "colab_type": "code",
        "colab": {}
      },
      "source": [
        "nClasses=10                                                 #No. of classes in the CIFAR10 dataset \n",
        "y_train = np_utils.to_categorical(y_train,nClasses)\n",
        "y_test = np_utils.to_categorical(y_test,nClasses)"
      ],
      "execution_count": 0,
      "outputs": []
    },
    {
      "cell_type": "code",
      "metadata": {
        "id": "qhN1O24ZdFRa",
        "colab_type": "code",
        "colab": {}
      },
      "source": [
        "model=Sequential()\n",
        "model.add(Convolution2D(32,(3,3),padding='same',input_shape=x_train.shape[1:]))\n",
        "model.add(Activation('elu'))\n",
        "model.add(BatchNormalization())\n",
        "model.add(Convolution2D(32,(3,3),padding='same'))\n",
        "model.add(Activation('elu'))\n",
        "model.add(BatchNormalization())\n",
        "model.add(MaxPooling2D(pool_size=(2,2)))\n",
        "model.add(Dropout(0.2))\n",
        "\n",
        "model.add(Convolution2D(64,(3,3),padding='same'))\n",
        "model.add(Activation('elu'))\n",
        "model.add(BatchNormalization())\n",
        "model.add(Convolution2D(64,(3,3),padding='same'))\n",
        "model.add(Activation('elu'))\n",
        "model.add(BatchNormalization())\n",
        "model.add(MaxPooling2D(pool_size=(2,2)))\n",
        "model.add(Dropout(0.3))\n",
        "\n",
        "model.add(Convolution2D(128,(3,3),padding='same'))\n",
        "model.add(Activation('elu'))\n",
        "model.add(BatchNormalization())\n",
        "model.add(Convolution2D(128,(3,3),padding='same'))\n",
        "model.add(Activation('elu'))\n",
        "model.add(BatchNormalization())\n",
        "model.add(MaxPooling2D(pool_size=(2,2)))\n",
        "model.add(Dropout(0.4))\n",
        "\n",
        "model.add(Flatten())\n",
        "model.add(Dense(10))\n",
        "model.add(Activation('softmax'))\n"
      ],
      "execution_count": 0,
      "outputs": []
    },
    {
      "cell_type": "code",
      "metadata": {
        "id": "3HXMHw2-dFH6",
        "colab_type": "code",
        "colab": {
          "base_uri": "https://localhost:8080/",
          "height": 731
        },
        "outputId": "91c8164e-bff0-4dcd-e39c-de4bbb7adcc4"
      },
      "source": [
        "# model.compile(optimizer= 'adam',\n",
        "#              loss='categorical_crossentropy',\n",
        "#           metrics=['accuracy'])\n",
        "# model.fit(x_train,y_train,epochs=20,validation_data=(x_test,y_test)) \n",
        "from keras.optimizers import adam\n",
        "AdamOpt = adam(lr=0.001) \n",
        "model.compile(optimizer=AdamOpt, loss='categorical_crossentropy', \n",
        "metrics=['accuracy'])\n",
        "model.fit(x_train,y_train,epochs=20,validation_data=(x_test,y_test))\n"
      ],
      "execution_count": 41,
      "outputs": [
        {
          "output_type": "stream",
          "text": [
            "Train on 50000 samples, validate on 10000 samples\n",
            "Epoch 1/20\n",
            "50000/50000 [==============================] - 60s 1ms/step - loss: 1.4305 - acc: 0.5319 - val_loss: 1.0131 - val_acc: 0.6610\n",
            "Epoch 2/20\n",
            "50000/50000 [==============================] - 55s 1ms/step - loss: 0.9369 - acc: 0.6776 - val_loss: 0.7721 - val_acc: 0.7309\n",
            "Epoch 3/20\n",
            "50000/50000 [==============================] - 56s 1ms/step - loss: 0.7789 - acc: 0.7309 - val_loss: 0.6987 - val_acc: 0.7574\n",
            "Epoch 4/20\n",
            "50000/50000 [==============================] - 55s 1ms/step - loss: 0.6808 - acc: 0.7628 - val_loss: 0.6324 - val_acc: 0.7804\n",
            "Epoch 5/20\n",
            "50000/50000 [==============================] - 56s 1ms/step - loss: 0.6083 - acc: 0.7861 - val_loss: 0.6210 - val_acc: 0.7827\n",
            "Epoch 6/20\n",
            "50000/50000 [==============================] - 56s 1ms/step - loss: 0.5549 - acc: 0.8069 - val_loss: 0.6534 - val_acc: 0.7791\n",
            "Epoch 7/20\n",
            "50000/50000 [==============================] - 56s 1ms/step - loss: 0.5110 - acc: 0.8206 - val_loss: 0.5497 - val_acc: 0.8135\n",
            "Epoch 8/20\n",
            "50000/50000 [==============================] - 56s 1ms/step - loss: 0.4733 - acc: 0.8322 - val_loss: 0.5508 - val_acc: 0.8128\n",
            "Epoch 9/20\n",
            "50000/50000 [==============================] - 56s 1ms/step - loss: 0.4442 - acc: 0.8433 - val_loss: 0.5863 - val_acc: 0.8047\n",
            "Epoch 10/20\n",
            "50000/50000 [==============================] - 55s 1ms/step - loss: 0.4227 - acc: 0.8525 - val_loss: 0.5387 - val_acc: 0.8213\n",
            "Epoch 11/20\n",
            "50000/50000 [==============================] - 55s 1ms/step - loss: 0.3949 - acc: 0.8621 - val_loss: 0.5106 - val_acc: 0.8325\n",
            "Epoch 12/20\n",
            "50000/50000 [==============================] - 55s 1ms/step - loss: 0.3792 - acc: 0.8646 - val_loss: 0.5088 - val_acc: 0.8361\n",
            "Epoch 13/20\n",
            "50000/50000 [==============================] - 56s 1ms/step - loss: 0.3610 - acc: 0.8718 - val_loss: 0.5216 - val_acc: 0.8294\n",
            "Epoch 14/20\n",
            "50000/50000 [==============================] - 56s 1ms/step - loss: 0.3444 - acc: 0.8774 - val_loss: 0.4966 - val_acc: 0.8387\n",
            "Epoch 15/20\n",
            "50000/50000 [==============================] - 56s 1ms/step - loss: 0.3344 - acc: 0.8808 - val_loss: 0.4837 - val_acc: 0.8434\n",
            "Epoch 16/20\n",
            "50000/50000 [==============================] - 55s 1ms/step - loss: 0.3210 - acc: 0.8859 - val_loss: 0.4618 - val_acc: 0.8460\n",
            "Epoch 17/20\n",
            "50000/50000 [==============================] - 55s 1ms/step - loss: 0.3055 - acc: 0.8910 - val_loss: 0.5105 - val_acc: 0.8323\n",
            "Epoch 18/20\n",
            "50000/50000 [==============================] - 55s 1ms/step - loss: 0.2967 - acc: 0.8941 - val_loss: 0.4765 - val_acc: 0.8516\n",
            "Epoch 19/20\n",
            "50000/50000 [==============================] - 55s 1ms/step - loss: 0.2864 - acc: 0.8984 - val_loss: 0.4831 - val_acc: 0.8473\n",
            "Epoch 20/20\n",
            "50000/50000 [==============================] - 55s 1ms/step - loss: 0.2798 - acc: 0.9005 - val_loss: 0.4821 - val_acc: 0.8473\n"
          ],
          "name": "stdout"
        },
        {
          "output_type": "execute_result",
          "data": {
            "text/plain": [
              "<keras.callbacks.History at 0x7ff3434ea2e8>"
            ]
          },
          "metadata": {
            "tags": []
          },
          "execution_count": 41
        }
      ]
    },
    {
      "cell_type": "code",
      "metadata": {
        "id": "PU8Egzn7dADl",
        "colab_type": "code",
        "colab": {
          "base_uri": "https://localhost:8080/",
          "height": 51
        },
        "outputId": "d4be0294-068d-4982-c667-c0e86cbed116"
      },
      "source": [
        "model.evaluate(x_test,y_test)\n"
      ],
      "execution_count": 42,
      "outputs": [
        {
          "output_type": "stream",
          "text": [
            "10000/10000 [==============================] - 3s 290us/step\n"
          ],
          "name": "stdout"
        },
        {
          "output_type": "execute_result",
          "data": {
            "text/plain": [
              "[0.4821234549999237, 0.8473]"
            ]
          },
          "metadata": {
            "tags": []
          },
          "execution_count": 42
        }
      ]
    },
    {
      "cell_type": "code",
      "metadata": {
        "id": "NRQS2XNbdEnh",
        "colab_type": "code",
        "colab": {}
      },
      "source": [
        "predictions=model.predict([x_test])"
      ],
      "execution_count": 0,
      "outputs": []
    },
    {
      "cell_type": "code",
      "metadata": {
        "id": "kh8MtMNoDBgw",
        "colab_type": "code",
        "colab": {
          "base_uri": "https://localhost:8080/",
          "height": 34
        },
        "outputId": "25b95579-d287-496c-ca84-6c8d566862ba"
      },
      "source": [
        "import numpy as np \n",
        "import matplotlib.pyplot as plt\n",
        "print(np.argmax(predictions[999]))"
      ],
      "execution_count": 26,
      "outputs": [
        {
          "output_type": "stream",
          "text": [
            "8\n"
          ],
          "name": "stdout"
        }
      ]
    },
    {
      "cell_type": "code",
      "metadata": {
        "id": "K1r8KqTsDJW3",
        "colab_type": "code",
        "colab": {
          "base_uri": "https://localhost:8080/",
          "height": 269
        },
        "outputId": "98a7eeed-9896-4dd5-8746-2e401276def1"
      },
      "source": [
        "plt.imshow(x_test[4])\n",
        "plt.show()"
      ],
      "execution_count": 27,
      "outputs": [
        {
          "output_type": "display_data",
          "data": {
            "image/png": "[encoded data removed]",
            "text/plain": [
              "<Figure size 432x288 with 1 Axes>"
            ]
          },
          "metadata": {
            "tags": []
          }
        }
      ]
    },
    {
      "cell_type": "code",
      "metadata": {
        "id": "6hMBMbc2Jzmy",
        "colab_type": "code",
        "colab": {
          "base_uri": "https://localhost:8080/",
          "height": 122
        },
        "outputId": "463d4b9e-db07-4660-ceb0-a1c1bed1913c"
      },
      "source": [
        "from google.colab import drive\n",
        "drive.mount('/gdrive')"
      ],
      "execution_count": 45,
      "outputs": [
        {
          "output_type": "stream",
          "text": [
            "Go to this URL in a browser: https://accounts.google.com/o/oauth2/auth?client_id=947318989803-6bn6qk8qdgf4n4g3pfee6491hc0brc4i.apps.googleusercontent.com&redirect_uri=urn%3Aietf%3Awg%3Aoauth%3A2.0%3Aoob&scope=email%20https%3A%2F%2Fwww.googleapis.com%2Fauth%2Fdocs.test%20https%3A%2F%2Fwww.googleapis.com%2Fauth%2Fdrive%20https%3A%2F%2Fwww.googleapis.com%2Fauth%2Fdrive.photos.readonly%20https%3A%2F%2Fwww.googleapis.com%2Fauth%2Fpeopleapi.readonly&response_type=code\n",
            "\n",
            "Enter your authorization code:\n",
            "··········\n",
            "Mounted at /gdrive\n"
          ],
          "name": "stdout"
        }
      ]
    },
    {
      "cell_type": "code",
      "metadata": {
        "id": "u1Ieo4jSDhxt",
        "colab_type": "code",
        "colab": {
          "base_uri": "https://localhost:8080/",
          "height": 34
        },
        "outputId": "11fabf51-899e-4f62-c626-63b9f68b0f19"
      },
      "source": [
        "model_json = model.to_json()\n",
        "with open(\"/gdrive/My Drive/weights/cifar.json\", \"w\") as json_file:\n",
        "   json_file.write(model_json)\n",
        "# serialize weights to HDF5\n",
        "model.save_weights(\"/gdrive/My Drive/weights/model.h5\")\n",
        "print(\"Saved model to disk\")\n"
      ],
      "execution_count": 50,
      "outputs": [
        {
          "output_type": "stream",
          "text": [
            "Saved model to disk\n"
          ],
          "name": "stdout"
        }
      ]
    },
    {
      "cell_type": "code",
      "metadata": {
        "id": "rTSBGFEZJVzn",
        "colab_type": "code",
        "colab": {
          "base_uri": "https://localhost:8080/",
          "height": 34
        },
        "outputId": "e657e1f4-1285-4a65-c056-bde37530b423"
      },
      "source": [
        "from keras.models import model_from_json\n",
        "\n",
        "json_file = open('/gdrive/My Drive/weights/cifar.json', 'r')\n",
        "model_json = json_file.read()\n",
        "json_file.close()\n",
        "model = model_from_json(model_json)\n",
        "# load weights into new model\n",
        "model.load_weights(\"/gdrive/My Drive/weights/model.h5\")\n",
        "print(\"Loaded model from disk\")"
      ],
      "execution_count": 59,
      "outputs": [
        {
          "output_type": "stream",
          "text": [
            "Loaded model from disk\n"
          ],
          "name": "stdout"
        }
      ]
    },
    {
      "cell_type": "code",
      "metadata": {
        "id": "KkYuCGX1LhsQ",
        "colab_type": "code",
        "colab": {}
      },
      "source": [
        ""
      ],
      "execution_count": 0,
      "outputs": []
    }
  ]
}